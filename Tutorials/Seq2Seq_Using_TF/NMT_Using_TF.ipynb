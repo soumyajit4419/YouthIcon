{
  "nbformat": 4,
  "nbformat_minor": 0,
  "metadata": {
    "colab": {
      "name": "NMT - Using TF.ipynb",
      "provenance": [],
      "collapsed_sections": []
    },
    "kernelspec": {
      "name": "python3",
      "display_name": "Python 3"
    },
    "accelerator": "GPU"
  },
  "cells": [
    {
      "cell_type": "code",
      "metadata": {
        "id": "3XERJi6S8eIh",
        "colab_type": "code",
        "colab": {}
      },
      "source": [
        "import pandas as pd\n",
        "import numpy as np\n",
        "import matplotlib.pyplot as plt\n",
        "%matplotlib inline\n",
        "import re"
      ],
      "execution_count": 1,
      "outputs": []
    },
    {
      "cell_type": "code",
      "metadata": {
        "id": "RvYsFwjQemut",
        "colab_type": "code",
        "colab": {}
      },
      "source": [
        "from nltk.translate.bleu_score import sentence_bleu"
      ],
      "execution_count": 2,
      "outputs": []
    },
    {
      "cell_type": "code",
      "metadata": {
        "id": "9jMEjfjRBcBB",
        "colab_type": "code",
        "colab": {
          "base_uri": "https://localhost:8080/",
          "height": 35
        },
        "outputId": "fedbbc98-dac4-4796-e846-060113c3af38"
      },
      "source": [
        "import tensorflow as tf\n",
        "tf.__version__"
      ],
      "execution_count": 3,
      "outputs": [
        {
          "output_type": "execute_result",
          "data": {
            "application/vnd.google.colaboratory.intrinsic+json": {
              "type": "string"
            },
            "text/plain": [
              "'2.3.0'"
            ]
          },
          "metadata": {
            "tags": []
          },
          "execution_count": 3
        }
      ]
    },
    {
      "cell_type": "code",
      "metadata": {
        "id": "otg5PxmoBfm4",
        "colab_type": "code",
        "colab": {}
      },
      "source": [
        "from tensorflow.keras.preprocessing.text import Tokenizer\n",
        "from tensorflow.keras.preprocessing.sequence import pad_sequences"
      ],
      "execution_count": 4,
      "outputs": []
    },
    {
      "cell_type": "code",
      "metadata": {
        "id": "AVd-fcvvqdX1",
        "colab_type": "code",
        "colab": {}
      },
      "source": [
        "data = open('/content/drive/My Drive/Colab Notebooks/Machine Translation/English_Hindi/hin.txt','r') "
      ],
      "execution_count": 5,
      "outputs": []
    },
    {
      "cell_type": "code",
      "metadata": {
        "id": "KDbyWp19q8jh",
        "colab_type": "code",
        "colab": {}
      },
      "source": [
        "sent = data.readlines()"
      ],
      "execution_count": 6,
      "outputs": []
    },
    {
      "cell_type": "code",
      "metadata": {
        "id": "xbTu6gpStJNy",
        "colab_type": "code",
        "colab": {}
      },
      "source": [
        "sentence_dict=[]\n",
        "for i in sent:\n",
        "  x = i.split('\\t')\n",
        "  temp = {'english_sentence':x[0],'hindi_sentence':x[1]}\n",
        "  sentence_dict.append(temp)"
      ],
      "execution_count": 7,
      "outputs": []
    },
    {
      "cell_type": "code",
      "metadata": {
        "id": "O0fwnKx6uDFk",
        "colab_type": "code",
        "colab": {}
      },
      "source": [
        "df = pd.DataFrame(data=sentence_dict)"
      ],
      "execution_count": 8,
      "outputs": []
    },
    {
      "cell_type": "code",
      "metadata": {
        "id": "QSYLOmhfuNic",
        "colab_type": "code",
        "colab": {
          "base_uri": "https://localhost:8080/",
          "height": 197
        },
        "outputId": "eb9ddf6b-1f01-4d4b-f381-5d43b49e510a"
      },
      "source": [
        "df.head()"
      ],
      "execution_count": 9,
      "outputs": [
        {
          "output_type": "execute_result",
          "data": {
            "text/html": [
              "<div>\n",
              "<style scoped>\n",
              "    .dataframe tbody tr th:only-of-type {\n",
              "        vertical-align: middle;\n",
              "    }\n",
              "\n",
              "    .dataframe tbody tr th {\n",
              "        vertical-align: top;\n",
              "    }\n",
              "\n",
              "    .dataframe thead th {\n",
              "        text-align: right;\n",
              "    }\n",
              "</style>\n",
              "<table border=\"1\" class=\"dataframe\">\n",
              "  <thead>\n",
              "    <tr style=\"text-align: right;\">\n",
              "      <th></th>\n",
              "      <th>english_sentence</th>\n",
              "      <th>hindi_sentence</th>\n",
              "    </tr>\n",
              "  </thead>\n",
              "  <tbody>\n",
              "    <tr>\n",
              "      <th>0</th>\n",
              "      <td>Wow!</td>\n",
              "      <td>वाह!</td>\n",
              "    </tr>\n",
              "    <tr>\n",
              "      <th>1</th>\n",
              "      <td>Help!</td>\n",
              "      <td>बचाओ!</td>\n",
              "    </tr>\n",
              "    <tr>\n",
              "      <th>2</th>\n",
              "      <td>Jump.</td>\n",
              "      <td>उछलो.</td>\n",
              "    </tr>\n",
              "    <tr>\n",
              "      <th>3</th>\n",
              "      <td>Jump.</td>\n",
              "      <td>कूदो.</td>\n",
              "    </tr>\n",
              "    <tr>\n",
              "      <th>4</th>\n",
              "      <td>Jump.</td>\n",
              "      <td>छलांग.</td>\n",
              "    </tr>\n",
              "  </tbody>\n",
              "</table>\n",
              "</div>"
            ],
            "text/plain": [
              "  english_sentence hindi_sentence\n",
              "0             Wow!           वाह!\n",
              "1            Help!          बचाओ!\n",
              "2            Jump.          उछलो.\n",
              "3            Jump.          कूदो.\n",
              "4            Jump.         छलांग."
            ]
          },
          "metadata": {
            "tags": []
          },
          "execution_count": 9
        }
      ]
    },
    {
      "cell_type": "code",
      "metadata": {
        "id": "PISGtplRS61B",
        "colab_type": "code",
        "colab": {
          "base_uri": "https://localhost:8080/",
          "height": 35
        },
        "outputId": "4c9a9770-1bf6-45ca-dece-64e2e3696089"
      },
      "source": [
        "df.shape"
      ],
      "execution_count": 10,
      "outputs": [
        {
          "output_type": "execute_result",
          "data": {
            "text/plain": [
              "(2778, 2)"
            ]
          },
          "metadata": {
            "tags": []
          },
          "execution_count": 10
        }
      ]
    },
    {
      "cell_type": "code",
      "metadata": {
        "id": "iKPtcUV3S8pR",
        "colab_type": "code",
        "colab": {
          "base_uri": "https://localhost:8080/",
          "height": 69
        },
        "outputId": "ddae9962-b8a1-49af-cbda-4ead1b87a0f1"
      },
      "source": [
        "df.isnull().sum()"
      ],
      "execution_count": 11,
      "outputs": [
        {
          "output_type": "execute_result",
          "data": {
            "text/plain": [
              "english_sentence    0\n",
              "hindi_sentence      0\n",
              "dtype: int64"
            ]
          },
          "metadata": {
            "tags": []
          },
          "execution_count": 11
        }
      ]
    },
    {
      "cell_type": "code",
      "metadata": {
        "id": "G4oW4M43upVT",
        "colab_type": "code",
        "colab": {}
      },
      "source": [
        "msk = np.random.rand(len(df)) < 0.8"
      ],
      "execution_count": 12,
      "outputs": []
    },
    {
      "cell_type": "code",
      "metadata": {
        "id": "ah9HKVBmvTo1",
        "colab_type": "code",
        "colab": {}
      },
      "source": [
        "test_df = df[~msk]\n",
        "df = df[msk]"
      ],
      "execution_count": 13,
      "outputs": []
    },
    {
      "cell_type": "code",
      "metadata": {
        "id": "oAnyanFcvgdt",
        "colab_type": "code",
        "colab": {
          "base_uri": "https://localhost:8080/",
          "height": 35
        },
        "outputId": "54a1fb7b-a553-4630-b7ee-b1c1a5745cf9"
      },
      "source": [
        "len(df),len(test_df)"
      ],
      "execution_count": 14,
      "outputs": [
        {
          "output_type": "execute_result",
          "data": {
            "text/plain": [
              "(2225, 553)"
            ]
          },
          "metadata": {
            "tags": []
          },
          "execution_count": 14
        }
      ]
    },
    {
      "cell_type": "code",
      "metadata": {
        "id": "FTLyJS3U-YPj",
        "colab_type": "code",
        "colab": {}
      },
      "source": [
        "def clean_eng(text):\n",
        "  text = re.sub('[^a-zA-Z.]',' ',text)\n",
        "  text = text.lower()\n",
        "  return text"
      ],
      "execution_count": 15,
      "outputs": []
    },
    {
      "cell_type": "code",
      "metadata": {
        "id": "sFBm2lt_KSUs",
        "colab_type": "code",
        "colab": {}
      },
      "source": [
        "def clean_hindi(a):\n",
        "  a = re.sub(r'\\([^)]*\\)', '', a)\n",
        "  x = re.sub('[२३०८१५७९४६0-9a-zA-Z.]',' ',a)\n",
        "  return x"
      ],
      "execution_count": 16,
      "outputs": []
    },
    {
      "cell_type": "code",
      "metadata": {
        "id": "AWbHKY1GAuQZ",
        "colab_type": "code",
        "colab": {}
      },
      "source": [
        "# Cleaning the english sentences and appending it into a list\n",
        "english_sentences = []\n",
        "for i in df['english_sentence']:\n",
        "  lines = clean_eng(i)\n",
        "  english_sentences.append(lines)"
      ],
      "execution_count": 17,
      "outputs": []
    },
    {
      "cell_type": "code",
      "metadata": {
        "id": "Y3GkajZ7CsJ1",
        "colab_type": "code",
        "colab": {}
      },
      "source": [
        "hindi_decoder_input = []\n",
        "for i in df['hindi_sentence']:\n",
        "  i = clean_hindi(i)\n",
        "  i = '_start '+i\n",
        "  hindi_decoder_input.append(i)"
      ],
      "execution_count": 18,
      "outputs": []
    },
    {
      "cell_type": "code",
      "metadata": {
        "id": "YcHTipHUDIRl",
        "colab_type": "code",
        "colab": {}
      },
      "source": [
        "hindi_decoder_output = []\n",
        "for i in df['hindi_sentence']:\n",
        "  i = clean_hindi(i)\n",
        "  i = i +' end_'\n",
        "  hindi_decoder_output.append(i)"
      ],
      "execution_count": 19,
      "outputs": []
    },
    {
      "cell_type": "code",
      "metadata": {
        "id": "IqgU3NQaBYWA",
        "colab_type": "code",
        "colab": {}
      },
      "source": [
        "en_tokenizer = Tokenizer(filters='')\n",
        "hin_tokenizer = Tokenizer(filters='')"
      ],
      "execution_count": 20,
      "outputs": []
    },
    {
      "cell_type": "code",
      "metadata": {
        "id": "dIOqr03CCObY",
        "colab_type": "code",
        "colab": {}
      },
      "source": [
        "en_tokenizer.fit_on_texts(english_sentences)"
      ],
      "execution_count": 21,
      "outputs": []
    },
    {
      "cell_type": "code",
      "metadata": {
        "id": "Bh0vPD1ROB6E",
        "colab_type": "code",
        "colab": {}
      },
      "source": [
        "hin_tokenizer.fit_on_texts(hindi_decoder_input)\n",
        "hin_tokenizer.fit_on_texts(hindi_decoder_output)"
      ],
      "execution_count": 22,
      "outputs": []
    },
    {
      "cell_type": "code",
      "metadata": {
        "id": "XYin8_fmH5nw",
        "colab_type": "code",
        "colab": {
          "base_uri": "https://localhost:8080/",
          "height": 35
        },
        "outputId": "2b378dc3-89c1-4144-98e3-a785c806976a"
      },
      "source": [
        "word_index = en_tokenizer.word_index\n",
        "en_vocab_size = len(word_index)+1\n",
        "en_vocab_size"
      ],
      "execution_count": 23,
      "outputs": [
        {
          "output_type": "execute_result",
          "data": {
            "text/plain": [
              "2585"
            ]
          },
          "metadata": {
            "tags": []
          },
          "execution_count": 23
        }
      ]
    },
    {
      "cell_type": "code",
      "metadata": {
        "id": "buiF5np-Ntp5",
        "colab_type": "code",
        "colab": {
          "base_uri": "https://localhost:8080/",
          "height": 35
        },
        "outputId": "e4e77417-bb55-45e8-c4fa-d01d762cd170"
      },
      "source": [
        "word_index = hin_tokenizer.word_index\n",
        "hin_vocab_size = len(word_index)+1\n",
        "hin_vocab_size"
      ],
      "execution_count": 24,
      "outputs": [
        {
          "output_type": "execute_result",
          "data": {
            "text/plain": [
              "2763"
            ]
          },
          "metadata": {
            "tags": []
          },
          "execution_count": 24
        }
      ]
    },
    {
      "cell_type": "code",
      "metadata": {
        "id": "KC08aqZ0OsuY",
        "colab_type": "code",
        "colab": {}
      },
      "source": [
        "en_sequence = en_tokenizer.texts_to_sequences(english_sentences)\n",
        "en_padded = pad_sequences(en_sequence,padding='post')"
      ],
      "execution_count": 25,
      "outputs": []
    },
    {
      "cell_type": "code",
      "metadata": {
        "id": "22SElZfqN_Bj",
        "colab_type": "code",
        "colab": {}
      },
      "source": [
        "hin_in_seq = hin_tokenizer.texts_to_sequences(hindi_decoder_input)\n",
        "hin_in_padded = pad_sequences(hin_in_seq,padding='post')"
      ],
      "execution_count": 26,
      "outputs": []
    },
    {
      "cell_type": "code",
      "metadata": {
        "id": "T1qjeSO7Rl1J",
        "colab_type": "code",
        "colab": {}
      },
      "source": [
        "hin_out_seq = hin_tokenizer.texts_to_sequences(hindi_decoder_output)\n",
        "hin_out_padded = pad_sequences(hin_out_seq,padding='post')"
      ],
      "execution_count": 27,
      "outputs": []
    },
    {
      "cell_type": "code",
      "metadata": {
        "id": "0Kv56RuoRu6-",
        "colab_type": "code",
        "colab": {}
      },
      "source": [
        "dataset = tf.data.Dataset.from_tensor_slices((en_padded, hin_in_padded, hin_out_padded))\n",
        "dataset = dataset.shuffle(20).batch(10,drop_remainder=True)"
      ],
      "execution_count": 28,
      "outputs": []
    },
    {
      "cell_type": "code",
      "metadata": {
        "id": "d9WEVYY7UqJl",
        "colab_type": "code",
        "colab": {}
      },
      "source": [
        "class Encoder(tf.keras.Model):\n",
        "  def __init__(self, vocab_size, embedding_size, lstm_size):\n",
        "    super().__init__()\n",
        "    self.lstm_size = lstm_size\n",
        "    self.embedding = tf.keras.layers.Embedding(vocab_size, embedding_size)\n",
        "    self.lstm = tf.keras.layers.LSTM(lstm_size, return_sequences=True, return_state=True)\n",
        "\n",
        "  def call(self, sequence, states):\n",
        "    embed = self.embedding(sequence)\n",
        "    output, state_h, state_c = self.lstm(embed, initial_state=states)\n",
        "    return output, state_h, state_c\n",
        "\n",
        "  def init_states(self, batch_size):\n",
        "    return (tf.zeros([batch_size, self.lstm_size]),tf.zeros([batch_size, self.lstm_size]))"
      ],
      "execution_count": 29,
      "outputs": []
    },
    {
      "cell_type": "code",
      "metadata": {
        "id": "RCdONQIaX33P",
        "colab_type": "code",
        "colab": {}
      },
      "source": [
        "class Decoder(tf.keras.Model):\n",
        "  def __init__(self, vocab_size, embedding_size, lstm_size):\n",
        "    super().__init__()\n",
        "    self.lstm_size = lstm_size\n",
        "    self.embedding = tf.keras.layers.Embedding(vocab_size, embedding_size)\n",
        "    self.lstm = tf.keras.layers.LSTM(lstm_size, return_sequences=True, return_state=True)\n",
        "    self.dense = tf.keras.layers.Dense(vocab_size)\n",
        "\n",
        "  def call(self, sequence, state):\n",
        "    embed = self.embedding(sequence)\n",
        "    lstm_out, state_h, state_c = self.lstm(embed, state)\n",
        "    logits = self.dense(lstm_out)\n",
        "    return logits, state_h, state_c"
      ],
      "execution_count": 30,
      "outputs": []
    },
    {
      "cell_type": "code",
      "metadata": {
        "id": "Z7KL7HqYX52u",
        "colab_type": "code",
        "colab": {}
      },
      "source": [
        "EMBEDDING_SIZE = 32\n",
        "LSTM_SIZE = 64\n",
        "\n",
        "encoder = Encoder(en_vocab_size, EMBEDDING_SIZE, LSTM_SIZE)\n",
        "decoder = Decoder(hin_vocab_size, EMBEDDING_SIZE, LSTM_SIZE)"
      ],
      "execution_count": 31,
      "outputs": []
    },
    {
      "cell_type": "code",
      "metadata": {
        "id": "rCmwSSolX-Dl",
        "colab_type": "code",
        "colab": {}
      },
      "source": [
        "def loss_func(targets, logits):\n",
        "  crossentropy = tf.keras.losses.SparseCategoricalCrossentropy(from_logits=True)\n",
        "  mask = tf.math.logical_not(tf.math.equal(targets, 0))\n",
        "  mask = tf.cast(mask, dtype=tf.int64)\n",
        "  loss = crossentropy(targets, logits, sample_weight=mask)\n",
        "  return loss"
      ],
      "execution_count": 32,
      "outputs": []
    },
    {
      "cell_type": "code",
      "metadata": {
        "id": "jFYQAdDeYB06",
        "colab_type": "code",
        "colab": {}
      },
      "source": [
        "optimizer = tf.keras.optimizers.Adam()"
      ],
      "execution_count": 33,
      "outputs": []
    },
    {
      "cell_type": "code",
      "metadata": {
        "id": "uEATDCKZYDsL",
        "colab_type": "code",
        "colab": {}
      },
      "source": [
        "@tf.function\n",
        "def train_step(source_seq, target_seq_in, target_seq_out, en_initial_states):\n",
        "    with tf.GradientTape() as tape:\n",
        "        en_outputs = encoder(source_seq, en_initial_states)\n",
        "        en_states = en_outputs[1:]\n",
        "        de_states = en_states\n",
        "\n",
        "        de_outputs = decoder(target_seq_in, de_states)\n",
        "        logits = de_outputs[0]\n",
        "        loss = loss_func(target_seq_out, logits)\n",
        "\n",
        "    variables = encoder.trainable_variables + decoder.trainable_variables\n",
        "    gradients = tape.gradient(loss, variables)\n",
        "    optimizer.apply_gradients(zip(gradients, variables))\n",
        "\n",
        "    return loss"
      ],
      "execution_count": 34,
      "outputs": []
    },
    {
      "cell_type": "code",
      "metadata": {
        "id": "CyDgxP2VYF2i",
        "colab_type": "code",
        "colab": {}
      },
      "source": [
        "def predict(test_source_text):\n",
        "    print(test_source_text)\n",
        "    test_source_seq = en_tokenizer.texts_to_sequences([test_source_text])\n",
        "\n",
        "    en_initial_states = encoder.init_states(1)\n",
        "    en_outputs = encoder(tf.constant(test_source_seq), en_initial_states)\n",
        "\n",
        "    de_input = tf.constant([[hin_tokenizer.word_index['_start']]])\n",
        "    de_state_h, de_state_c = en_outputs[1:]\n",
        "    out_words = []\n",
        "\n",
        "    while True:\n",
        "        de_output, de_state_h, de_state_c = decoder(\n",
        "            de_input, (de_state_h, de_state_c))\n",
        "        de_input = tf.argmax(de_output, -1)\n",
        "        out_words.append(hin_tokenizer.index_word[de_input.numpy()[0][0]])\n",
        "\n",
        "        if out_words[-1] == 'end_' or len(out_words) >= 30:\n",
        "            break\n",
        "\n",
        "    print(' '.join(out_words))"
      ],
      "execution_count": 45,
      "outputs": []
    },
    {
      "cell_type": "code",
      "metadata": {
        "id": "w3jHVRNPYKVT",
        "colab_type": "code",
        "colab": {
          "base_uri": "https://localhost:8080/",
          "height": 1000
        },
        "outputId": "fe53559b-9740-4d52-fce9-25e410909cb3"
      },
      "source": [
        "NUM_EPOCHS = 100\n",
        "BATCH_SIZE = 10\n",
        "for e in range(NUM_EPOCHS):\n",
        "  en_initial_states = encoder.init_states(BATCH_SIZE)\n",
        "  for batch, (source_seq, target_seq_in, target_seq_out) in enumerate(dataset.take(-1)):\n",
        "    loss = train_step(source_seq, target_seq_in,target_seq_out, en_initial_states)\n",
        "  print('Epoch {} Loss {:.4f}'.format(e + 1, loss.numpy())) "
      ],
      "execution_count": 36,
      "outputs": [
        {
          "output_type": "stream",
          "text": [
            "Epoch 1 Loss 3.8011\n",
            "Epoch 2 Loss 3.6113\n",
            "Epoch 3 Loss 3.9066\n",
            "Epoch 4 Loss 3.3500\n",
            "Epoch 5 Loss 3.5470\n",
            "Epoch 6 Loss 3.6124\n",
            "Epoch 7 Loss 3.4894\n",
            "Epoch 8 Loss 3.3717\n",
            "Epoch 9 Loss 3.1936\n",
            "Epoch 10 Loss 3.3608\n",
            "Epoch 11 Loss 3.3102\n",
            "Epoch 12 Loss 3.2515\n",
            "Epoch 13 Loss 2.9626\n",
            "Epoch 14 Loss 2.8534\n",
            "Epoch 15 Loss 2.8570\n",
            "Epoch 16 Loss 2.8859\n",
            "Epoch 17 Loss 3.1025\n",
            "Epoch 18 Loss 2.5776\n",
            "Epoch 19 Loss 3.1639\n",
            "Epoch 20 Loss 2.7877\n",
            "Epoch 21 Loss 2.8151\n",
            "Epoch 22 Loss 2.9984\n",
            "Epoch 23 Loss 2.5312\n",
            "Epoch 24 Loss 2.4930\n",
            "Epoch 25 Loss 2.7667\n",
            "Epoch 26 Loss 2.8828\n",
            "Epoch 27 Loss 2.7963\n",
            "Epoch 28 Loss 2.4005\n",
            "Epoch 29 Loss 2.1605\n",
            "Epoch 30 Loss 2.3453\n",
            "Epoch 31 Loss 2.1455\n",
            "Epoch 32 Loss 2.8195\n",
            "Epoch 33 Loss 2.4740\n",
            "Epoch 34 Loss 2.1812\n",
            "Epoch 35 Loss 2.2963\n",
            "Epoch 36 Loss 1.9052\n",
            "Epoch 37 Loss 2.0626\n",
            "Epoch 38 Loss 2.2422\n",
            "Epoch 39 Loss 1.9438\n",
            "Epoch 40 Loss 1.9441\n",
            "Epoch 41 Loss 1.9534\n",
            "Epoch 42 Loss 1.7661\n",
            "Epoch 43 Loss 1.8674\n",
            "Epoch 44 Loss 2.1150\n",
            "Epoch 45 Loss 1.9565\n",
            "Epoch 46 Loss 1.8712\n",
            "Epoch 47 Loss 1.8225\n",
            "Epoch 48 Loss 1.7196\n",
            "Epoch 49 Loss 1.7299\n",
            "Epoch 50 Loss 1.7043\n",
            "Epoch 51 Loss 1.8886\n",
            "Epoch 52 Loss 1.5397\n",
            "Epoch 53 Loss 1.6917\n",
            "Epoch 54 Loss 1.5670\n",
            "Epoch 55 Loss 1.3731\n",
            "Epoch 56 Loss 1.8937\n",
            "Epoch 57 Loss 1.6586\n",
            "Epoch 58 Loss 1.3532\n",
            "Epoch 59 Loss 1.5632\n",
            "Epoch 60 Loss 1.5090\n",
            "Epoch 61 Loss 1.4271\n",
            "Epoch 62 Loss 1.3931\n",
            "Epoch 63 Loss 1.4515\n",
            "Epoch 64 Loss 1.2499\n",
            "Epoch 65 Loss 1.2884\n",
            "Epoch 66 Loss 1.2225\n",
            "Epoch 67 Loss 1.2461\n",
            "Epoch 68 Loss 1.2212\n",
            "Epoch 69 Loss 1.2700\n",
            "Epoch 70 Loss 1.2515\n",
            "Epoch 71 Loss 1.0007\n",
            "Epoch 72 Loss 1.2378\n",
            "Epoch 73 Loss 1.2580\n",
            "Epoch 74 Loss 1.0639\n",
            "Epoch 75 Loss 1.1601\n",
            "Epoch 76 Loss 0.8502\n",
            "Epoch 77 Loss 1.3065\n",
            "Epoch 78 Loss 1.0345\n",
            "Epoch 79 Loss 0.8635\n",
            "Epoch 80 Loss 1.0279\n",
            "Epoch 81 Loss 1.1480\n",
            "Epoch 82 Loss 1.0681\n",
            "Epoch 83 Loss 1.0500\n",
            "Epoch 84 Loss 0.7473\n",
            "Epoch 85 Loss 1.0380\n",
            "Epoch 86 Loss 0.8370\n",
            "Epoch 87 Loss 0.8577\n",
            "Epoch 88 Loss 0.6041\n",
            "Epoch 89 Loss 0.9899\n",
            "Epoch 90 Loss 0.8862\n",
            "Epoch 91 Loss 0.7863\n",
            "Epoch 92 Loss 0.7887\n",
            "Epoch 93 Loss 0.9539\n",
            "Epoch 94 Loss 0.8713\n",
            "Epoch 95 Loss 0.8809\n",
            "Epoch 96 Loss 0.7538\n",
            "Epoch 97 Loss 0.6845\n",
            "Epoch 98 Loss 0.8344\n",
            "Epoch 99 Loss 0.7052\n",
            "Epoch 100 Loss 0.7547\n"
          ],
          "name": "stdout"
        }
      ]
    },
    {
      "cell_type": "code",
      "metadata": {
        "id": "Gqmtvf2AdjKW",
        "colab_type": "code",
        "colab": {}
      },
      "source": [
        "test_df['english_sentence'] = test_df['english_sentence'].apply(clean_eng)\n",
        "test_df['hindi_sentence'] = test_df['hindi_sentence'].apply(clean_hindi)"
      ],
      "execution_count": 37,
      "outputs": []
    },
    {
      "cell_type": "code",
      "metadata": {
        "id": "6E7v43fe12GR",
        "colab_type": "code",
        "colab": {
          "base_uri": "https://localhost:8080/",
          "height": 404
        },
        "outputId": "934c5d76-1081-4d69-819b-d723f2541582"
      },
      "source": [
        "test_df = test_df.reset_index()\n",
        "test_df"
      ],
      "execution_count": 38,
      "outputs": [
        {
          "output_type": "execute_result",
          "data": {
            "text/html": [
              "<div>\n",
              "<style scoped>\n",
              "    .dataframe tbody tr th:only-of-type {\n",
              "        vertical-align: middle;\n",
              "    }\n",
              "\n",
              "    .dataframe tbody tr th {\n",
              "        vertical-align: top;\n",
              "    }\n",
              "\n",
              "    .dataframe thead th {\n",
              "        text-align: right;\n",
              "    }\n",
              "</style>\n",
              "<table border=\"1\" class=\"dataframe\">\n",
              "  <thead>\n",
              "    <tr style=\"text-align: right;\">\n",
              "      <th></th>\n",
              "      <th>index</th>\n",
              "      <th>english_sentence</th>\n",
              "      <th>hindi_sentence</th>\n",
              "    </tr>\n",
              "  </thead>\n",
              "  <tbody>\n",
              "    <tr>\n",
              "      <th>0</th>\n",
              "      <td>7</td>\n",
              "      <td>cheers</td>\n",
              "      <td>वाह-वाह!</td>\n",
              "    </tr>\n",
              "    <tr>\n",
              "      <th>1</th>\n",
              "      <td>14</td>\n",
              "      <td>go away</td>\n",
              "      <td>चले जाओ!</td>\n",
              "    </tr>\n",
              "    <tr>\n",
              "      <th>2</th>\n",
              "      <td>19</td>\n",
              "      <td>welcome.</td>\n",
              "      <td>स्वागतम्।</td>\n",
              "    </tr>\n",
              "    <tr>\n",
              "      <th>3</th>\n",
              "      <td>21</td>\n",
              "      <td>have fun.</td>\n",
              "      <td>मौज करना।</td>\n",
              "    </tr>\n",
              "    <tr>\n",
              "      <th>4</th>\n",
              "      <td>26</td>\n",
              "      <td>i m fine.</td>\n",
              "      <td>मैं ठीक हूँ।</td>\n",
              "    </tr>\n",
              "    <tr>\n",
              "      <th>...</th>\n",
              "      <td>...</td>\n",
              "      <td>...</td>\n",
              "      <td>...</td>\n",
              "    </tr>\n",
              "    <tr>\n",
              "      <th>548</th>\n",
              "      <td>2764</td>\n",
              "      <td>instead of laying off these workers  why don t...</td>\n",
              "      <td>इन कर्मचारियों को नौकरी से निकालने की बजाय क्य...</td>\n",
              "    </tr>\n",
              "    <tr>\n",
              "      <th>549</th>\n",
              "      <td>2765</td>\n",
              "      <td>our parents took care of us and now it s our t...</td>\n",
              "      <td>हमारे माता-पिता ने हमारी देखभाल की थी और अभ हम...</td>\n",
              "    </tr>\n",
              "    <tr>\n",
              "      <th>550</th>\n",
              "      <td>2767</td>\n",
              "      <td>i learned to drive a car and got a driver s li...</td>\n",
              "      <td>जब मैं अठारह साल का था मैंने गाड़ी चलानी सीखी ...</td>\n",
              "    </tr>\n",
              "    <tr>\n",
              "      <th>551</th>\n",
              "      <td>2771</td>\n",
              "      <td>in       sister teresa was sent to calcutta  t...</td>\n",
              "      <td>में सिस्टर टेरेसा को कलकत्ता भेजा गया था,...</td>\n",
              "    </tr>\n",
              "    <tr>\n",
              "      <th>552</th>\n",
              "      <td>2775</td>\n",
              "      <td>democracy is the worst form of government  exc...</td>\n",
              "      <td>लोकतंत्र सरकार का सबसे घिनौना रूप है, अगर बाकी...</td>\n",
              "    </tr>\n",
              "  </tbody>\n",
              "</table>\n",
              "<p>553 rows × 3 columns</p>\n",
              "</div>"
            ],
            "text/plain": [
              "     index  ...                                     hindi_sentence\n",
              "0        7  ...                                           वाह-वाह!\n",
              "1       14  ...                                           चले जाओ!\n",
              "2       19  ...                                          स्वागतम्।\n",
              "3       21  ...                                          मौज करना।\n",
              "4       26  ...                                       मैं ठीक हूँ।\n",
              "..     ...  ...                                                ...\n",
              "548   2764  ...  इन कर्मचारियों को नौकरी से निकालने की बजाय क्य...\n",
              "549   2765  ...  हमारे माता-पिता ने हमारी देखभाल की थी और अभ हम...\n",
              "550   2767  ...  जब मैं अठारह साल का था मैंने गाड़ी चलानी सीखी ...\n",
              "551   2771  ...       में सिस्टर टेरेसा को कलकत्ता भेजा गया था,...\n",
              "552   2775  ...  लोकतंत्र सरकार का सबसे घिनौना रूप है, अगर बाकी...\n",
              "\n",
              "[553 rows x 3 columns]"
            ]
          },
          "metadata": {
            "tags": []
          },
          "execution_count": 38
        }
      ]
    },
    {
      "cell_type": "code",
      "metadata": {
        "id": "kT0u-yxfdtsh",
        "colab_type": "code",
        "colab": {
          "base_uri": "https://localhost:8080/",
          "height": 87
        },
        "outputId": "af07f119-c86c-438f-9364-a1f899c53956"
      },
      "source": [
        "test_df.iloc[0]"
      ],
      "execution_count": 43,
      "outputs": [
        {
          "output_type": "execute_result",
          "data": {
            "text/plain": [
              "index                      7\n",
              "english_sentence     cheers \n",
              "hindi_sentence      वाह-वाह!\n",
              "Name: 0, dtype: object"
            ]
          },
          "metadata": {
            "tags": []
          },
          "execution_count": 43
        }
      ]
    },
    {
      "cell_type": "code",
      "metadata": {
        "id": "bOjMJCIzhUMu",
        "colab_type": "code",
        "colab": {
          "base_uri": "https://localhost:8080/",
          "height": 52
        },
        "outputId": "767c86e5-a8ee-4731-8111-c569ffa348f4"
      },
      "source": [
        "predict(test_df['english_sentence'].iloc[3])"
      ],
      "execution_count": 48,
      "outputs": [
        {
          "output_type": "stream",
          "text": [
            "have fun.\n",
            "ताकतशाली है। अखबारों end_\n"
          ],
          "name": "stdout"
        }
      ]
    }
  ]
}